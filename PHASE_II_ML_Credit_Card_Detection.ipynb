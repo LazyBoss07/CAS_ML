{
  "cells": [
    {
      "cell_type": "code",
      "source": [
        "from google.colab import drive\n",
        "drive.mount('/content/drive')"
      ],
      "metadata": {
        "colab": {
          "base_uri": "https://localhost:8080/"
        },
        "id": "Txm2YzlefX7y",
        "outputId": "ca42b5c4-61c9-49de-977d-f9a231c7aa4a"
      },
      "execution_count": null,
      "outputs": [
        {
          "output_type": "stream",
          "name": "stdout",
          "text": [
            "Mounted at /content/drive\n"
          ]
        }
      ]
    },
    {
      "cell_type": "code",
      "source": [],
      "metadata": {
        "id": "-5Rmn7ygtvrA"
      },
      "execution_count": null,
      "outputs": []
    },
    {
      "cell_type": "code",
      "source": [
        "# !pip install opendatasets\n",
        "! mkdir /content/kaggle"
      ],
      "metadata": {
        "id": "QTBjwJGcfBH5"
      },
      "execution_count": null,
      "outputs": []
    },
    {
      "cell_type": "code",
      "source": [
        "! cp kaggle.json /content/kaggle/"
      ],
      "metadata": {
        "id": "4AxtYNLgg8mM"
      },
      "execution_count": null,
      "outputs": []
    },
    {
      "cell_type": "code",
      "source": [
        "! chmod 600 /content/kaggle/kaggle.json"
      ],
      "metadata": {
        "id": "o9dGgefMhBoD"
      },
      "execution_count": null,
      "outputs": []
    },
    {
      "cell_type": "code",
      "source": [
        "# !kaggle datasets download -d mlg-ulb/creditcardfraud\n",
        "!unzip /content/kaggle/creditcardfraud.zip\n"
      ],
      "metadata": {
        "colab": {
          "base_uri": "https://localhost:8080/"
        },
        "id": "UJF4_QxehKST",
        "outputId": "4f517eec-cfdd-4479-a448-eb9f87acb536"
      },
      "execution_count": null,
      "outputs": [
        {
          "output_type": "stream",
          "name": "stdout",
          "text": [
            "unzip:  cannot find or open /content/kaggle/creditcardfraud.zip, /content/kaggle/creditcardfraud.zip.zip or /content/kaggle/creditcardfraud.zip.ZIP.\n"
          ]
        }
      ]
    },
    {
      "cell_type": "code",
      "source": [
        "!cp  -r \"/content/kaggle\" \"/content/drive/MyDrive/kaggle\""
      ],
      "metadata": {
        "id": "dUJLEUjYblyA",
        "colab": {
          "base_uri": "https://localhost:8080/"
        },
        "outputId": "e4d01943-7f03-477e-cd51-bd5fa444ca77"
      },
      "execution_count": null,
      "outputs": [
        {
          "output_type": "stream",
          "name": "stdout",
          "text": [
            "cp: cannot stat '/content/kaggle': No such file or directory\n"
          ]
        }
      ]
    },
    {
      "cell_type": "code",
      "source": [
        "#Its here\n",
        "!cp -r /content/drive/MyDrive/kaggle/ /content/"
      ],
      "metadata": {
        "id": "4Y2F-xi5JXHA"
      },
      "execution_count": null,
      "outputs": []
    },
    {
      "cell_type": "code",
      "source": [
        "import csv\n",
        "\n",
        "# specify the input and output file names\n",
        "input_file = '/content/kaggle/input/creditcard.csv'\n",
        "output_file = '/content/kaggle/output/data.csv'\n",
        "\n",
        "# open the input file and read the data into a list\n",
        "with open(input_file, 'r') as in_file:\n",
        "    reader = csv.reader(in_file)\n",
        "    # get the header row\n",
        "    headers = next(reader)\n",
        "    data = list(reader)\n",
        "headers=headers[:11]+headers[29:]\n",
        "# keep the first 50 rows\n",
        "data = data[:50]\n",
        "for i in range(len(data)):\n",
        "    data[i]=data[i][:11]+data[i][29:]\n",
        "# insert the new column name in the header row\n",
        "headers.append(\"Fingerprint\")"
      ],
      "metadata": {
        "id": "zqQCASH9uiKc"
      },
      "execution_count": null,
      "outputs": []
    },
    {
      "cell_type": "code",
      "source": [
        "    \n",
        "\n",
        "# write the data to the output file\n",
        "with open(output_file, 'w+', newline='') as out_file:\n",
        "    # write the updated header row to the output file\n",
        "    writer = csv.writer(out_file)\n",
        "    writer.writerow(headers)\n",
        "    writer.writerows(data)\n",
        "    reader = csv.reader(out_file)\n",
        "    # for i, row in enumerate(reader):\n",
        "    #     # insert the new column value in the current row\n",
        "    #     row.append(0)\n",
        "    #     # write the updated row to the output file\n",
        "    #     writer.writerow(row)\n",
        "with open(output_file, 'r', newline='') as out_file:\n",
        "    reader = csv.reader(out_file)\n",
        "    for r in reader:\n",
        "      print(r)\n",
        "\n"
      ],
      "metadata": {
        "id": "Y923Ecoauj2c",
        "colab": {
          "base_uri": "https://localhost:8080/"
        },
        "outputId": "4efa279c-2d96-4c38-9265-6f33a94c59f0"
      },
      "execution_count": null,
      "outputs": [
        {
          "output_type": "stream",
          "name": "stdout",
          "text": [
            "['Time', 'V1', 'V2', 'V3', 'V4', 'V5', 'V6', 'V7', 'V8', 'V9', 'V10', 'Amount', 'Class', 'Fingerprint']\n",
            "['0', '-1.3598071336738', '-0.0727811733098497', '2.53634673796914', '1.37815522427443', '-0.338320769942518', '0.462387777762292', '0.239598554061257', '0.0986979012610507', '0.363786969611213', '0.0907941719789316', '149.62', '0']\n",
            "['0', '1.19185711131486', '0.26615071205963', '0.16648011335321', '0.448154078460911', '0.0600176492822243', '-0.0823608088155687', '-0.0788029833323113', '0.0851016549148104', '-0.255425128109186', '-0.166974414004614', '2.69', '0']\n",
            "['1', '-1.35835406159823', '-1.34016307473609', '1.77320934263119', '0.379779593034328', '-0.503198133318193', '1.80049938079263', '0.791460956450422', '0.247675786588991', '-1.51465432260583', '0.207642865216696', '378.66', '0']\n",
            "['1', '-0.966271711572087', '-0.185226008082898', '1.79299333957872', '-0.863291275036453', '-0.0103088796030823', '1.24720316752486', '0.23760893977178', '0.377435874652262', '-1.38702406270197', '-0.0549519224713749', '123.5', '0']\n",
            "['2', '-1.15823309349523', '0.877736754848451', '1.548717846511', '0.403033933955121', '-0.407193377311653', '0.0959214624684256', '0.592940745385545', '-0.270532677192282', '0.817739308235294', '0.753074431976354', '69.99', '0']\n",
            "['2', '-0.425965884412454', '0.960523044882985', '1.14110934232219', '-0.168252079760302', '0.42098688077219', '-0.0297275516639742', '0.476200948720027', '0.260314333074874', '-0.56867137571251', '-0.371407196834471', '3.67', '0']\n",
            "['4', '1.22965763450793', '0.141003507049326', '0.0453707735899449', '1.20261273673594', '0.191880988597645', '0.272708122899098', '-0.00515900288250983', '0.0812129398830894', '0.464959994783886', '-0.0992543211289237', '4.99', '0']\n",
            "['7', '-0.644269442348146', '1.41796354547385', '1.0743803763556', '-0.492199018495015', '0.948934094764157', '0.428118462833089', '1.12063135838353', '-3.80786423873589', '0.615374730667027', '1.24937617815176', '40.8', '0']\n",
            "['7', '-0.89428608220282', '0.286157196276544', '-0.113192212729871', '-0.271526130088604', '2.6695986595986', '3.72181806112751', '0.370145127676916', '0.851084443200905', '-0.392047586798604', '-0.410430432848439', '93.2', '0']\n",
            "['9', '-0.33826175242575', '1.11959337641566', '1.04436655157316', '-0.222187276738296', '0.49936080649727', '-0.24676110061991', '0.651583206489972', '0.0695385865186387', '-0.736727316364109', '-0.366845639206541', '3.68', '0']\n",
            "['10', '1.44904378114715', '-1.17633882535966', '0.913859832832795', '-1.37566665499943', '-1.97138316545323', '-0.62915213889734', '-1.4232356010359', '0.0484558879088564', '-1.72040839292037', '1.62665905834133', '7.8', '0']\n",
            "['10', '0.38497821518095', '0.616109459176472', '-0.874299702595052', '-0.0940186259679115', '2.92458437838817', '3.31702716826156', '0.470454671805879', '0.53824722837695', '-0.558894612428441', '0.30975539423728', '9.99', '0']\n",
            "['10', '1.249998742053', '-1.22163680921816', '0.383930151282291', '-1.23489868766892', '-1.48541947377961', '-0.753230164566149', '-0.689404975426345', '-0.227487227519552', '-2.09401057344842', '1.32372927445937', '121.5', '0']\n",
            "['11', '1.0693735878819', '0.287722129331455', '0.828612726634281', '2.71252042961718', '-0.178398016248009', '0.337543730282968', '-0.0967168617395962', '0.115981735546597', '-0.221082566236194', '0.460230444301678', '27.5', '0']\n",
            "['12', '-2.7918547659339', '-0.327770756658658', '1.64175016056605', '1.76747274389883', '-0.136588446465306', '0.80759646826532', '-0.422911389711497', '-1.90710747624096', '0.755712908314791', '1.1510869876677', '58.8', '0']\n",
            "['12', '-0.752417042956605', '0.345485415344747', '2.05732291276727', '-1.46864329840046', '-1.1583936804082', '-0.0778498291166733', '-0.608581418236123', '0.00360348436201849', '-0.436166983515744', '0.747730827192802', '15.99', '0']\n",
            "['12', '1.10321543528383', '-0.0402962145973447', '1.2673320885949', '1.28909146962552', '-0.735997163604068', '0.288069162976262', '-0.586056786337461', '0.189379713679593', '0.782332891785191', '-0.267975066537173', '12.99', '0']\n",
            "['13', '-0.436905071360625', '0.918966212909322', '0.92459077438817', '-0.727219053596792', '0.915678718106307', '-0.127867352079254', '0.707641607333935', '0.0879623554672504', '-0.66527135413364', '-0.737979823596458', '0.89', '0']\n",
            "['14', '-5.40125766315825', '-5.45014783420644', '1.18630463143652', '1.73623880012095', '3.04910587764025', '-1.76340557365201', '-1.55973769907953', '0.160841747266769', '1.23308974041888', '0.345172827050629', '46.8', '0']\n",
            "['15', '1.4929359769862', '-1.02934573189487', '0.45479473374366', '-1.43802587991702', '-1.55543410136344', '-0.720961147043557', '-1.08066413038614', '-0.0531271179483221', '-1.9786815953872', '1.63807603690446', '5', '0']\n",
            "['16', '0.694884775607337', '-1.36181910308009', '1.02922103956032', '0.834159299216716', '-1.19120879445965', '1.30910881872952', '-0.878585911450457', '0.4452901278385', '-0.446195831557423', '0.568520735086962', '231.71', '0']\n",
            "['17', '0.962496069914852', '0.32846102605212', '-0.17147905415064', '2.10920406774016', '1.12956557126894', '1.6960376856836', '0.107711607311367', '0.521502163844302', '-1.19131110205143', '0.724396314588903', '34.09', '0']\n",
            "['18', '1.16661638244228', '0.502120087854101', '-0.0673003143663533', '2.26156923949128', '0.428804194630708', '0.0894735167274599', '0.241146579907281', '0.138081705243702', '-0.989162395259052', '0.922174967079328', '2.28', '0']\n",
            "['18', '0.247491127783665', '0.277665627353681', '1.18547084217971', '-0.0926025498576041', '-1.31439397897076', '-0.150115997622665', '-0.946364950111676', '-1.61793505064675', '1.54407140197844', '-0.82988060074647', '22.75', '0']\n",
            "['22', '-1.94652513121534', '-0.0449005054418194', '-0.405570068378956', '-1.01305733702394', '2.94196769950545', '2.95505339674562', '-0.0630631473635638', '0.855546309018146', '0.0499669002270836', '0.573742508037695', '0.89', '0']\n",
            "['22', '-2.0742946722629', '-0.121481799450951', '1.32202063048967', '0.410007514171835', '0.295197545759436', '-0.95953722984438', '0.543985491287656', '-0.104626728092018', '0.475664017945495', '0.149450615348245', '26.43', '0']\n",
            "['23', '1.17328461017079', '0.353497876646456', '0.28390506526532', '1.1335633178795', '-0.172577181842493', '-0.916053706932115', '0.36902484539083', '-0.327260242196767', '-0.24665102789456', '-0.0461393022689538', '41.88', '0']\n",
            "['23', '1.32270726911234', '-0.17404083293642', '0.434555031250987', '0.576037652384661', '-0.836758045983797', '-0.831083411483829', '-0.264904960791055', '-0.220981942667704', '-1.07142461772052', '0.868558547570527', '16', '0']\n",
            "['23', '-0.414288810090829', '0.905437322625407', '1.72745294417921', '1.47347126657189', '0.00744274117322988', '-0.200330677416199', '0.740228319420026', '-0.029247400012072', '-0.593392019124765', '-0.346188231273199', '33', '0']\n",
            "['23', '1.05938711501788', '-0.175319186719244', '1.26612964251002', '1.18610995469348', '-0.786001752758539', '0.578435276462307', '-0.767084276374229', '0.401046149117525', '0.699499675903727', '-0.0647375556773487', '12.99', '0']\n",
            "['24', '1.23742903021294', '0.0610425841868962', '0.380525879794222', '0.761564111432371', '-0.359770710369787', '-0.494084149915291', '0.00649421810779282', '-0.133862379689891', '0.438809736716666', '-0.207358045517011', '17.28', '0']\n",
            "['25', '1.11400859541157', '0.0855460896870318', '0.493702487395368', '1.33575998514475', '-0.300188550950467', '-0.0107537834263628', '-0.11876001509605', '0.188616695943139', '0.20568684906514', '0.0822622587556722', '4.45', '0']\n",
            "['26', '-0.529912284186556', '0.873891581460326', '1.34724732930113', '0.145456676582257', '0.414208858362661', '0.10022309405219', '0.711206082959649', '0.1760659570625', '-0.286716934699997', '-0.484687683196852', '6.14', '0']\n",
            "['26', '-0.529912284186556', '0.873891581460326', '1.34724732930113', '0.145456676582257', '0.414208858362661', '0.10022309405219', '0.711206082959649', '0.1760659570625', '-0.286716934699997', '-0.484687683196852', '6.14', '0']\n",
            "['26', '-0.53538776309446', '0.865267807575272', '1.35107628772237', '0.14757547449791', '0.433680212077009', '0.0869829381161816', '0.693039311115721', '0.179742260742556', '-0.285641861230583', '-0.482474471178567', '1.77', '0']\n",
            "['26', '-0.53538776309446', '0.865267807575272', '1.35107628772237', '0.14757547449791', '0.433680212077009', '0.0869829381161816', '0.693039311115721', '0.179742260742556', '-0.285641861230583', '-0.482474471178567', '1.77', '0']\n",
            "['27', '-0.246045948703835', '0.47326690335701', '1.69573755374059', '0.262411487973117', '-0.0108664136529745', '-0.610835935296661', '0.793936545512066', '-0.247252830908628', '0.138879113774066', '-0.401007068346067', '30.49', '0']\n",
            "['27', '-1.45218727859439', '1.76512373913739', '0.611668540757038', '1.17682498424561', '-0.445979892057813', '0.246826451919258', '-0.257566155685306', '1.0924724973132', '-0.607524461211062', '0.0471555530038123', '1.8', '0']\n",
            "['29', '0.996369531566045', '-0.12258878723806', '0.546819472613086', '0.706579541087689', '0.134559557409452', '1.15699511200606', '-0.294561331432968', '0.407429099419853', '0.337862663634561', '-0.408150492552647', '20.53', '0']\n",
            "['29', '1.11088034163339', '0.168716770722767', '0.517143960377807', '1.32540691997371', '-0.191573353787583', '0.0195037226488424', '-0.0318491084003128', '0.117619919555324', '0.017664720727696', '0.0448647914479061', '6.54', '0']\n",
            "['32', '1.24905471963177', '-0.624727077037783', '-0.710588903536079', '-0.991600360912692', '1.42997319213398', '3.69297701929891', '-1.09020864122523', '0.967290815452715', '0.850148519454057', '-0.307081111779614', '29.89', '0']\n",
            "['32', '-2.00887179458613', '2.19852650316899', '0.144241739942708', '1.15943226211997', '-0.815174287845416', '0.182288271256805', '-0.617108301549016', '1.53081672758398', '-0.586832286254875', '0.129875750830725', '2.35', '0']\n",
            "['33', '-0.607877142993026', '1.03134507783793', '1.74044973731533', '1.23210555042311', '0.418592260222944', '0.119168118951909', '0.850892666335631', '-0.176267418873834', '-0.243501347955064', '0.148455489833925', '14.8', '0']\n",
            "['33', '-0.935731508971261', '0.170415774156885', '2.74626126916024', '-1.07796491232198', '-0.305594036012037', '0.011577039242069', '-0.296178450741079', '0.402775569749032', '-0.0404717463090409', '-0.852045975590358', '9.1', '0']\n",
            "['34', '-0.762255665726893', '0.127767751953647', '2.65005638571315', '-1.87566277123804', '-0.893356398126455', '-0.268714889488759', '-0.419863596621261', '0.146233406715251', '-0.869635290154597', '-0.0386516694016891', '15.99', '0']\n",
            "['34', '1.13831556625444', '0.0569559699973862', '0.649418964599217', '0.873062040924213', '-0.468466330715866', '-0.410194552246249', '-0.0138975543027732', '-0.0724396093157116', '0.306787909036459', '-0.269952637390657', '21.34', '0']\n",
            "['34', '-0.291540244596543', '0.445575313725742', '1.2497521162384', '-1.73573588991416', '0.0857555587180682', '-0.121924299130972', '0.40771585706035', '0.095309377625631', '0.815902286836031', '-1.49118801152726', '18.95', '0']\n",
            "['34', '0.201685891430752', '0.497483215432781', '1.3739125741005', '0.571405317647578', '-0.630657750142243', '-0.539659123772599', '-0.0762702908119869', '-0.917105750019037', '0.270008406215231', '-0.480280682110825', '9.99', '0']\n",
            "['35', '1.38639697419213', '-0.794209465382612', '0.778224190591254', '-0.864708433897642', '-1.06413227965342', '0.351296173582744', '-1.19145458338703', '0.052685634312249', '-0.304404039275229', '0.576516808924066', '30.9', '0']\n",
            "['35', '-1.06323567874519', '1.41819062554828', '1.08667286312649', '1.24143960031209', '0.00230612611071083', '0.0459015812190403', '0.514120896637259', '0.241252403456357', '-0.154499951014978', '0.280672622055497', '20.22', '0']\n"
          ]
        }
      ]
    },
    {
      "cell_type": "code",
      "source": [
        "# #adding the fingerprint at the entered row\n",
        "# import pandas as pd\n",
        "# df=pd.DataFrame(data)\n",
        "# # print(df)\n",
        "# df['Fingerprint']=[0]*1100\n",
        "# df.to_csv('/content/data.csv', index=False)\n",
        "\n"
      ],
      "metadata": {
        "id": "m1Q_oOKPF5GO",
        "colab": {
          "base_uri": "https://localhost:8080/",
          "height": 380
        },
        "outputId": "f1ca2e4d-0edb-4879-c59c-57de6adb97b7"
      },
      "execution_count": null,
      "outputs": [
        {
          "output_type": "error",
          "ename": "ValueError",
          "evalue": "ignored",
          "traceback": [
            "\u001b[0;31m---------------------------------------------------------------------------\u001b[0m",
            "\u001b[0;31mValueError\u001b[0m                                Traceback (most recent call last)",
            "\u001b[0;32m<ipython-input-8-a921f0b26bef>\u001b[0m in \u001b[0;36m<cell line: 5>\u001b[0;34m()\u001b[0m\n\u001b[1;32m      3\u001b[0m \u001b[0mdf\u001b[0m\u001b[0;34m=\u001b[0m\u001b[0mpd\u001b[0m\u001b[0;34m.\u001b[0m\u001b[0mDataFrame\u001b[0m\u001b[0;34m(\u001b[0m\u001b[0mdata\u001b[0m\u001b[0;34m)\u001b[0m\u001b[0;34m\u001b[0m\u001b[0;34m\u001b[0m\u001b[0m\n\u001b[1;32m      4\u001b[0m \u001b[0;31m# print(df)\u001b[0m\u001b[0;34m\u001b[0m\u001b[0;34m\u001b[0m\u001b[0m\n\u001b[0;32m----> 5\u001b[0;31m \u001b[0mdf\u001b[0m\u001b[0;34m[\u001b[0m\u001b[0;34m'Fingerprint'\u001b[0m\u001b[0;34m]\u001b[0m\u001b[0;34m=\u001b[0m\u001b[0;34m[\u001b[0m\u001b[0;36m0\u001b[0m\u001b[0;34m]\u001b[0m\u001b[0;34m*\u001b[0m\u001b[0;36m1100\u001b[0m\u001b[0;34m\u001b[0m\u001b[0;34m\u001b[0m\u001b[0m\n\u001b[0m\u001b[1;32m      6\u001b[0m \u001b[0mdf\u001b[0m\u001b[0;34m.\u001b[0m\u001b[0mto_csv\u001b[0m\u001b[0;34m(\u001b[0m\u001b[0;34m'/content/data.csv'\u001b[0m\u001b[0;34m,\u001b[0m \u001b[0mindex\u001b[0m\u001b[0;34m=\u001b[0m\u001b[0;32mFalse\u001b[0m\u001b[0;34m)\u001b[0m\u001b[0;34m\u001b[0m\u001b[0;34m\u001b[0m\u001b[0m\n\u001b[1;32m      7\u001b[0m \u001b[0;34m\u001b[0m\u001b[0m\n",
            "\u001b[0;32m/usr/local/lib/python3.10/dist-packages/pandas/core/frame.py\u001b[0m in \u001b[0;36m__setitem__\u001b[0;34m(self, key, value)\u001b[0m\n\u001b[1;32m   3978\u001b[0m         \u001b[0;32melse\u001b[0m\u001b[0;34m:\u001b[0m\u001b[0;34m\u001b[0m\u001b[0;34m\u001b[0m\u001b[0m\n\u001b[1;32m   3979\u001b[0m             \u001b[0;31m# set column\u001b[0m\u001b[0;34m\u001b[0m\u001b[0;34m\u001b[0m\u001b[0m\n\u001b[0;32m-> 3980\u001b[0;31m             \u001b[0mself\u001b[0m\u001b[0;34m.\u001b[0m\u001b[0m_set_item\u001b[0m\u001b[0;34m(\u001b[0m\u001b[0mkey\u001b[0m\u001b[0;34m,\u001b[0m \u001b[0mvalue\u001b[0m\u001b[0;34m)\u001b[0m\u001b[0;34m\u001b[0m\u001b[0;34m\u001b[0m\u001b[0m\n\u001b[0m\u001b[1;32m   3981\u001b[0m \u001b[0;34m\u001b[0m\u001b[0m\n\u001b[1;32m   3982\u001b[0m     \u001b[0;32mdef\u001b[0m \u001b[0m_setitem_slice\u001b[0m\u001b[0;34m(\u001b[0m\u001b[0mself\u001b[0m\u001b[0;34m,\u001b[0m \u001b[0mkey\u001b[0m\u001b[0;34m:\u001b[0m \u001b[0mslice\u001b[0m\u001b[0;34m,\u001b[0m \u001b[0mvalue\u001b[0m\u001b[0;34m)\u001b[0m\u001b[0;34m:\u001b[0m\u001b[0;34m\u001b[0m\u001b[0;34m\u001b[0m\u001b[0m\n",
            "\u001b[0;32m/usr/local/lib/python3.10/dist-packages/pandas/core/frame.py\u001b[0m in \u001b[0;36m_set_item\u001b[0;34m(self, key, value)\u001b[0m\n\u001b[1;32m   4172\u001b[0m         \u001b[0mensure\u001b[0m \u001b[0mhomogeneity\u001b[0m\u001b[0;34m.\u001b[0m\u001b[0;34m\u001b[0m\u001b[0;34m\u001b[0m\u001b[0m\n\u001b[1;32m   4173\u001b[0m         \"\"\"\n\u001b[0;32m-> 4174\u001b[0;31m         \u001b[0mvalue\u001b[0m \u001b[0;34m=\u001b[0m \u001b[0mself\u001b[0m\u001b[0;34m.\u001b[0m\u001b[0m_sanitize_column\u001b[0m\u001b[0;34m(\u001b[0m\u001b[0mvalue\u001b[0m\u001b[0;34m)\u001b[0m\u001b[0;34m\u001b[0m\u001b[0;34m\u001b[0m\u001b[0m\n\u001b[0m\u001b[1;32m   4175\u001b[0m \u001b[0;34m\u001b[0m\u001b[0m\n\u001b[1;32m   4176\u001b[0m         if (\n",
            "\u001b[0;32m/usr/local/lib/python3.10/dist-packages/pandas/core/frame.py\u001b[0m in \u001b[0;36m_sanitize_column\u001b[0;34m(self, value)\u001b[0m\n\u001b[1;32m   4913\u001b[0m \u001b[0;34m\u001b[0m\u001b[0m\n\u001b[1;32m   4914\u001b[0m         \u001b[0;32mif\u001b[0m \u001b[0mis_list_like\u001b[0m\u001b[0;34m(\u001b[0m\u001b[0mvalue\u001b[0m\u001b[0;34m)\u001b[0m\u001b[0;34m:\u001b[0m\u001b[0;34m\u001b[0m\u001b[0;34m\u001b[0m\u001b[0m\n\u001b[0;32m-> 4915\u001b[0;31m             \u001b[0mcom\u001b[0m\u001b[0;34m.\u001b[0m\u001b[0mrequire_length_match\u001b[0m\u001b[0;34m(\u001b[0m\u001b[0mvalue\u001b[0m\u001b[0;34m,\u001b[0m \u001b[0mself\u001b[0m\u001b[0;34m.\u001b[0m\u001b[0mindex\u001b[0m\u001b[0;34m)\u001b[0m\u001b[0;34m\u001b[0m\u001b[0;34m\u001b[0m\u001b[0m\n\u001b[0m\u001b[1;32m   4916\u001b[0m         \u001b[0;32mreturn\u001b[0m \u001b[0msanitize_array\u001b[0m\u001b[0;34m(\u001b[0m\u001b[0mvalue\u001b[0m\u001b[0;34m,\u001b[0m \u001b[0mself\u001b[0m\u001b[0;34m.\u001b[0m\u001b[0mindex\u001b[0m\u001b[0;34m,\u001b[0m \u001b[0mcopy\u001b[0m\u001b[0;34m=\u001b[0m\u001b[0;32mTrue\u001b[0m\u001b[0;34m,\u001b[0m \u001b[0mallow_2d\u001b[0m\u001b[0;34m=\u001b[0m\u001b[0;32mTrue\u001b[0m\u001b[0;34m)\u001b[0m\u001b[0;34m\u001b[0m\u001b[0;34m\u001b[0m\u001b[0m\n\u001b[1;32m   4917\u001b[0m \u001b[0;34m\u001b[0m\u001b[0m\n",
            "\u001b[0;32m/usr/local/lib/python3.10/dist-packages/pandas/core/common.py\u001b[0m in \u001b[0;36mrequire_length_match\u001b[0;34m(data, index)\u001b[0m\n\u001b[1;32m    569\u001b[0m     \"\"\"\n\u001b[1;32m    570\u001b[0m     \u001b[0;32mif\u001b[0m \u001b[0mlen\u001b[0m\u001b[0;34m(\u001b[0m\u001b[0mdata\u001b[0m\u001b[0;34m)\u001b[0m \u001b[0;34m!=\u001b[0m \u001b[0mlen\u001b[0m\u001b[0;34m(\u001b[0m\u001b[0mindex\u001b[0m\u001b[0;34m)\u001b[0m\u001b[0;34m:\u001b[0m\u001b[0;34m\u001b[0m\u001b[0;34m\u001b[0m\u001b[0m\n\u001b[0;32m--> 571\u001b[0;31m         raise ValueError(\n\u001b[0m\u001b[1;32m    572\u001b[0m             \u001b[0;34m\"Length of values \"\u001b[0m\u001b[0;34m\u001b[0m\u001b[0;34m\u001b[0m\u001b[0m\n\u001b[1;32m    573\u001b[0m             \u001b[0;34mf\"({len(data)}) \"\u001b[0m\u001b[0;34m\u001b[0m\u001b[0;34m\u001b[0m\u001b[0m\n",
            "\u001b[0;31mValueError\u001b[0m: Length of values (1100) does not match length of index (50)"
          ]
        }
      ]
    },
    {
      "cell_type": "code",
      "execution_count": null,
      "metadata": {
        "_cell_guid": "b1076dfc-b9ad-4769-8c92-a6c4dae69d19",
        "_uuid": "8f2839f25d086af736a60e9eeb907d3b93b6e0e5",
        "execution": {
          "iopub.execute_input": "2020-12-23T18:03:29.096671Z",
          "iopub.status.busy": "2020-12-23T18:03:29.095971Z",
          "iopub.status.idle": "2020-12-23T18:03:29.112590Z",
          "shell.execute_reply": "2020-12-23T18:03:29.111998Z"
        },
        "papermill": {
          "duration": 0.039362,
          "end_time": "2020-12-23T18:03:29.112726",
          "exception": false,
          "start_time": "2020-12-23T18:03:29.073364",
          "status": "completed"
        },
        "tags": [],
        "id": "1KQJNe0iekuF"
      },
      "outputs": [],
      "source": [
        "#Begins\n",
        "\n",
        "import numpy as np # linear algebra\n",
        "import pandas as pd # data processing, CSV file I/O (e.g. pd.read_csv)\n",
        "\n",
        "# Input data files are available in the read-only \"../input/\" directory\n",
        "# For example, running this (by clicking run or pressing Shift+Enter) will list all files under the input directory\n",
        "\n",
        "import os\n",
        "for dirname, _, filenames in os.walk('content/kaggle/input'):\n",
        "    for filename in filenames:\n",
        "        print(os.path.join(dirname, filename))\n"
      ]
    },
    {
      "cell_type": "code",
      "execution_count": null,
      "metadata": {
        "_cell_guid": "79c7e3d0-c299-4dcb-8224-4455121ee9b0",
        "_uuid": "d629ff2d2480ee46fbb7e2d37f6b5fab8052498a",
        "execution": {
          "iopub.execute_input": "2020-12-23T18:03:29.149076Z",
          "iopub.status.busy": "2020-12-23T18:03:29.148381Z",
          "iopub.status.idle": "2020-12-23T18:03:33.486310Z",
          "shell.execute_reply": "2020-12-23T18:03:33.486825Z"
        },
        "papermill": {
          "duration": 4.359593,
          "end_time": "2020-12-23T18:03:33.486978",
          "exception": false,
          "start_time": "2020-12-23T18:03:29.127385",
          "status": "completed"
        },
        "tags": [],
        "id": "-xlGwywSekuL"
      },
      "outputs": [],
      "source": [
        "data = pd.read_csv('/content/kaggle/input/creditcard.csv')\n",
        "\n",
        "# data.head(50).describe()\n",
        "# data.loc[6000:9100].describe()\n",
        "# data=data.loc[8100:11100]\n",
        "\n"
      ]
    },
    {
      "cell_type": "code",
      "source": [
        "df = pd.DataFrame(data)\n",
        "#Sampling of data\n",
        "# Extract the row where col2 is 1\n",
        "row = pd.DataFrame(df.loc[df['Class'] == 1])#[:400]\n",
        "print(row)\n",
        "row.to_csv('/content/example.csv', index=False)\n",
        "row = pd.DataFrame(df.loc[df['Class'] == 0])#[:700]\n",
        "row.to_csv('/content/example.csv', mode='a', index=False, header=False)\n",
        "\n"
      ],
      "metadata": {
        "id": "x27-afXT80EL",
        "colab": {
          "base_uri": "https://localhost:8080/"
        },
        "outputId": "4fe87625-3cd6-4525-a375-159f24bf5d1b"
      },
      "execution_count": null,
      "outputs": [
        {
          "output_type": "stream",
          "name": "stdout",
          "text": [
            "            Time        V1        V2        V3        V4        V5        V6  \\\n",
            "541        406.0 -2.312227  1.951992 -1.609851  3.997906 -0.522188 -1.426545   \n",
            "623        472.0 -3.043541 -3.157307  1.088463  2.288644  1.359805 -1.064823   \n",
            "4920      4462.0 -2.303350  1.759247 -0.359745  2.330243 -0.821628 -0.075788   \n",
            "6108      6986.0 -4.397974  1.358367 -2.592844  2.679787 -1.128131 -1.706536   \n",
            "6329      7519.0  1.234235  3.019740 -4.304597  4.732795  3.624201 -1.357746   \n",
            "...          ...       ...       ...       ...       ...       ...       ...   \n",
            "279863  169142.0 -1.927883  1.125653 -4.518331  1.749293 -1.566487 -2.010494   \n",
            "280143  169347.0  1.378559  1.289381 -5.004247  1.411850  0.442581 -1.326536   \n",
            "280149  169351.0 -0.676143  1.126366 -2.213700  0.468308 -1.120541 -0.003346   \n",
            "281144  169966.0 -3.113832  0.585864 -5.399730  1.817092 -0.840618 -2.943548   \n",
            "281674  170348.0  1.991976  0.158476 -2.583441  0.408670  1.151147 -0.096695   \n",
            "\n",
            "              V7        V8        V9  ...       V21       V22       V23  \\\n",
            "541    -2.537387  1.391657 -2.770089  ...  0.517232 -0.035049 -0.465211   \n",
            "623     0.325574 -0.067794 -0.270953  ...  0.661696  0.435477  1.375966   \n",
            "4920    0.562320 -0.399147 -0.238253  ... -0.294166 -0.932391  0.172726   \n",
            "6108   -3.496197 -0.248778 -0.247768  ...  0.573574  0.176968 -0.436207   \n",
            "6329    1.713445 -0.496358 -1.282858  ... -0.379068 -0.704181 -0.656805   \n",
            "...          ...       ...       ...  ...       ...       ...       ...   \n",
            "279863 -0.882850  0.697211 -2.064945  ...  0.778584 -0.319189  0.639419   \n",
            "280143 -1.413170  0.248525 -1.127396  ...  0.370612  0.028234 -0.145640   \n",
            "280149 -2.234739  1.210158 -0.652250  ...  0.751826  0.834108  0.190944   \n",
            "281144 -2.208002  1.058733 -1.632333  ...  0.583276 -0.269209 -0.456108   \n",
            "281674  0.223050 -0.068384  0.577829  ... -0.164350 -0.295135 -0.072173   \n",
            "\n",
            "             V24       V25       V26       V27       V28  Amount  Class  \n",
            "541     0.320198  0.044519  0.177840  0.261145 -0.143276    0.00      1  \n",
            "623    -0.293803  0.279798 -0.145362 -0.252773  0.035764  529.00      1  \n",
            "4920   -0.087330 -0.156114 -0.542628  0.039566 -0.153029  239.93      1  \n",
            "6108   -0.053502  0.252405 -0.657488 -0.827136  0.849573   59.00      1  \n",
            "6329   -1.632653  1.488901  0.566797 -0.010016  0.146793    1.00      1  \n",
            "...          ...       ...       ...       ...       ...     ...    ...  \n",
            "279863 -0.294885  0.537503  0.788395  0.292680  0.147968  390.00      1  \n",
            "280143 -0.081049  0.521875  0.739467  0.389152  0.186637    0.76      1  \n",
            "280149  0.032070 -0.739695  0.471111  0.385107  0.194361   77.89      1  \n",
            "281144 -0.183659 -0.328168  0.606116  0.884876 -0.253700  245.00      1  \n",
            "281674 -0.450261  0.313267 -0.289617  0.002988 -0.015309   42.53      1  \n",
            "\n",
            "[492 rows x 31 columns]\n"
          ]
        }
      ]
    },
    {
      "cell_type": "code",
      "source": [
        "!ls\n",
        "data = pd.read_csv('/content/example.csv')\n"
      ],
      "metadata": {
        "colab": {
          "base_uri": "https://localhost:8080/"
        },
        "id": "aUSA3t_Q7pVX",
        "outputId": "ed28504e-e320-48c2-efd3-5aa6d86bea33"
      },
      "execution_count": null,
      "outputs": [
        {
          "output_type": "stream",
          "name": "stdout",
          "text": [
            "drive  example.csv  kaggle  sample_data\n"
          ]
        }
      ]
    },
    {
      "cell_type": "code",
      "source": [],
      "metadata": {
        "id": "fWAKTfDTN7xy"
      },
      "execution_count": null,
      "outputs": []
    },
    {
      "cell_type": "code",
      "source": [
        "import seaborn as sns\n",
        "import matplotlib.pyplot as plt\n",
        "\n",
        "# read a tips.csv file from seaborn library\n",
        "value = [\"Valid\", \"Fraud\"]\n",
        "df = pd.read_csv(\"/content/kaggle/example.csv\")\n",
        "# count plot on single categorical variable\n",
        "sns.countplot(x ='Class', data = df)\n",
        "# Show the plot\n",
        "plt.show()\n"
      ],
      "metadata": {
        "colab": {
          "base_uri": "https://localhost:8080/",
          "height": 449
        },
        "id": "MT7jw-5kNvz1",
        "outputId": "41714712-e395-4f59-d86f-0edfbf76bc9b"
      },
      "execution_count": null,
      "outputs": [
        {
          "output_type": "display_data",
          "data": {
            "text/plain": [
              "<Figure size 640x480 with 1 Axes>"
            ],
            "image/png": "[encoded data removed]"
          },
          "metadata": {}
        }
      ]
    },
    {
      "cell_type": "code",
      "source": [
        "import seaborn as sns\n",
        "import matplotlib.pyplot as plt\n",
        "\n",
        "# read a tips.csv file from seaborn library\n",
        "df = pd.read_csv(\"/content/kaggle/input/creditcard.csv\")\n",
        "# count plot on single categorical variable\n",
        "sns.countplot(x ='Class', data = df)\n",
        "# Show the plot\n",
        "plt.show()"
      ],
      "metadata": {
        "colab": {
          "base_uri": "https://localhost:8080/",
          "height": 449
        },
        "id": "GqAHddGoQKNZ",
        "outputId": "72aab71a-514e-48a9-82e7-38173ccf9043"
      },
      "execution_count": null,
      "outputs": [
        {
          "output_type": "display_data",
          "data": {
            "text/plain": [
              "<Figure size 640x480 with 1 Axes>"
            ],
            "image/png": "[encoded data removed]"
          },
          "metadata": {}
        }
      ]
    },
    {
      "cell_type": "code",
      "execution_count": null,
      "metadata": {
        "execution": {
          "iopub.execute_input": "2020-12-23T18:03:33.522311Z",
          "iopub.status.busy": "2020-12-23T18:03:33.520020Z",
          "iopub.status.idle": "2020-12-23T18:03:33.555079Z",
          "shell.execute_reply": "2020-12-23T18:03:33.555574Z"
        },
        "papermill": {
          "duration": 0.053503,
          "end_time": "2020-12-23T18:03:33.555723",
          "exception": false,
          "start_time": "2020-12-23T18:03:33.502220",
          "status": "completed"
        },
        "tags": [],
        "id": "I8tRovWxekuM",
        "colab": {
          "base_uri": "https://localhost:8080/"
        },
        "outputId": "10e77619-3bb2-494f-f0e3-4b9decfbec38"
      },
      "outputs": [
        {
          "output_type": "execute_result",
          "data": {
            "text/plain": [
              "Time      0\n",
              "V1        0\n",
              "V2        0\n",
              "V3        0\n",
              "V4        0\n",
              "V5        0\n",
              "V6        0\n",
              "V7        0\n",
              "V8        0\n",
              "V9        0\n",
              "V10       0\n",
              "V11       0\n",
              "V12       0\n",
              "V13       0\n",
              "V14       0\n",
              "V15       0\n",
              "V16       0\n",
              "V17       0\n",
              "V18       0\n",
              "V19       0\n",
              "V20       0\n",
              "V21       0\n",
              "V22       0\n",
              "V23       0\n",
              "V24       0\n",
              "V25       0\n",
              "V26       0\n",
              "V27       0\n",
              "V28       0\n",
              "Amount    0\n",
              "Class     0\n",
              "dtype: int64"
            ]
          },
          "metadata": {},
          "execution_count": 15
        }
      ],
      "source": [
        "data.isnull().sum()"
      ]
    },
    {
      "cell_type": "code",
      "execution_count": null,
      "metadata": {
        "execution": {
          "iopub.execute_input": "2020-12-23T18:03:33.620628Z",
          "iopub.status.busy": "2020-12-23T18:03:33.619934Z",
          "iopub.status.idle": "2020-12-23T18:03:34.035945Z",
          "shell.execute_reply": "2020-12-23T18:03:34.036453Z"
        },
        "papermill": {
          "duration": 0.465793,
          "end_time": "2020-12-23T18:03:34.036600",
          "exception": false,
          "start_time": "2020-12-23T18:03:33.570807",
          "status": "completed"
        },
        "tags": [],
        "id": "tqRV9MqyekuN",
        "colab": {
          "base_uri": "https://localhost:8080/",
          "height": 394
        },
        "outputId": "bf261e27-b256-45ea-cf1e-f69929614228"
      },
      "outputs": [
        {
          "output_type": "execute_result",
          "data": {
            "text/plain": [
              "                Time            V1            V2            V3            V4  \\\n",
              "count  284807.000000  2.848070e+05  2.848070e+05  2.848070e+05  2.848070e+05   \n",
              "mean    94813.859575  1.168375e-15  3.480775e-16 -1.264575e-15  2.094054e-15   \n",
              "std     47488.145955  1.958696e+00  1.651309e+00  1.516255e+00  1.415869e+00   \n",
              "min         0.000000 -5.640751e+01 -7.271573e+01 -4.832559e+01 -5.683171e+00   \n",
              "25%     54201.500000 -9.203734e-01 -5.985499e-01 -8.903648e-01 -8.486401e-01   \n",
              "50%     84692.000000  1.810880e-02  6.548556e-02  1.798463e-01 -1.984653e-02   \n",
              "75%    139320.500000  1.315642e+00  8.037239e-01  1.027196e+00  7.433413e-01   \n",
              "max    172792.000000  2.454930e+00  2.205773e+01  9.382558e+00  1.687534e+01   \n",
              "\n",
              "                 V5            V6            V7            V8            V9  \\\n",
              "count  2.848070e+05  2.848070e+05  2.848070e+05  2.848070e+05  2.848070e+05   \n",
              "mean   9.947354e-16  1.488111e-15 -5.732103e-16  1.182546e-16 -2.412418e-15   \n",
              "std    1.380247e+00  1.332271e+00  1.237094e+00  1.194353e+00  1.098632e+00   \n",
              "min   -1.137433e+02 -2.616051e+01 -4.355724e+01 -7.321672e+01 -1.343407e+01   \n",
              "25%   -6.915971e-01 -7.682956e-01 -5.540759e-01 -2.086297e-01 -6.430976e-01   \n",
              "50%   -5.433583e-02 -2.741871e-01  4.010308e-02  2.235804e-02 -5.142873e-02   \n",
              "75%    6.119264e-01  3.985649e-01  5.704361e-01  3.273459e-01  5.971390e-01   \n",
              "max    3.480167e+01  7.330163e+01  1.205895e+02  2.000721e+01  1.559499e+01   \n",
              "\n",
              "       ...           V21           V22           V23           V24  \\\n",
              "count  ...  2.848070e+05  2.848070e+05  2.848070e+05  2.848070e+05   \n",
              "mean   ...  1.589701e-16 -3.648428e-16  2.642515e-16  4.473465e-15   \n",
              "std    ...  7.345240e-01  7.257016e-01  6.244603e-01  6.056471e-01   \n",
              "min    ... -3.483038e+01 -1.093314e+01 -4.480774e+01 -2.836627e+00   \n",
              "25%    ... -2.283949e-01 -5.423504e-01 -1.618463e-01 -3.545861e-01   \n",
              "50%    ... -2.945017e-02  6.781943e-03 -1.119293e-02  4.097606e-02   \n",
              "75%    ...  1.863772e-01  5.285536e-01  1.476421e-01  4.395266e-01   \n",
              "max    ...  2.720284e+01  1.050309e+01  2.252841e+01  4.584549e+00   \n",
              "\n",
              "                V25           V26           V27           V28         Amount  \\\n",
              "count  2.848070e+05  2.848070e+05  2.848070e+05  2.848070e+05  284807.000000   \n",
              "mean   5.145321e-16  1.687915e-15 -3.658532e-16 -1.230197e-16      88.349619   \n",
              "std    5.212781e-01  4.822270e-01  4.036325e-01  3.300833e-01     250.120109   \n",
              "min   -1.029540e+01 -2.604551e+00 -2.256568e+01 -1.543008e+01       0.000000   \n",
              "25%   -3.171451e-01 -3.269839e-01 -7.083953e-02 -5.295979e-02       5.600000   \n",
              "50%    1.659350e-02 -5.213911e-02  1.342146e-03  1.124383e-02      22.000000   \n",
              "75%    3.507156e-01  2.409522e-01  9.104512e-02  7.827995e-02      77.165000   \n",
              "max    7.519589e+00  3.517346e+00  3.161220e+01  3.384781e+01   25691.160000   \n",
              "\n",
              "               Class  \n",
              "count  284807.000000  \n",
              "mean        0.001727  \n",
              "std         0.041527  \n",
              "min         0.000000  \n",
              "25%         0.000000  \n",
              "50%         0.000000  \n",
              "75%         0.000000  \n",
              "max         1.000000  \n",
              "\n",
              "[8 rows x 31 columns]"
            ],
            "text/html": [
              "\n",
              "  <div id=\"df-212d8f6b-b690-4366-a652-3f3276a95314\">\n",
              "    <div class=\"colab-df-container\">\n",
              "      <div>\n",
              "<style scoped>\n",
              "    .dataframe tbody tr th:only-of-type {\n",
              "        vertical-align: middle;\n",
              "    }\n",
              "\n",
              "    .dataframe tbody tr th {\n",
              "        vertical-align: top;\n",
              "    }\n",
              "\n",
              "    .dataframe thead th {\n",
              "        text-align: right;\n",
              "    }\n",
              "</style>\n",
              "<table border=\"1\" class=\"dataframe\">\n",
              "  <thead>\n",
              "    <tr style=\"text-align: right;\">\n",
              "      <th></th>\n",
              "      <th>Time</th>\n",
              "      <th>V1</th>\n",
              "      <th>V2</th>\n",
              "      <th>V3</th>\n",
              "      <th>V4</th>\n",
              "      <th>V5</th>\n",
              "      <th>V6</th>\n",
              "      <th>V7</th>\n",
              "      <th>V8</th>\n",
              "      <th>V9</th>\n",
              "      <th>...</th>\n",
              "      <th>V21</th>\n",
              "      <th>V22</th>\n",
              "      <th>V23</th>\n",
              "      <th>V24</th>\n",
              "      <th>V25</th>\n",
              "      <th>V26</th>\n",
              "      <th>V27</th>\n",
              "      <th>V28</th>\n",
              "      <th>Amount</th>\n",
              "      <th>Class</th>\n",
              "    </tr>\n",
              "  </thead>\n",
              "  <tbody>\n",
              "    <tr>\n",
              "      <th>count</th>\n",
              "      <td>284807.000000</td>\n",
              "      <td>2.848070e+05</td>\n",
              "      <td>2.848070e+05</td>\n",
              "      <td>2.848070e+05</td>\n",
              "      <td>2.848070e+05</td>\n",
              "      <td>2.848070e+05</td>\n",
              "      <td>2.848070e+05</td>\n",
              "      <td>2.848070e+05</td>\n",
              "      <td>2.848070e+05</td>\n",
              "      <td>2.848070e+05</td>\n",
              "      <td>...</td>\n",
              "      <td>2.848070e+05</td>\n",
              "      <td>2.848070e+05</td>\n",
              "      <td>2.848070e+05</td>\n",
              "      <td>2.848070e+05</td>\n",
              "      <td>2.848070e+05</td>\n",
              "      <td>2.848070e+05</td>\n",
              "      <td>2.848070e+05</td>\n",
              "      <td>2.848070e+05</td>\n",
              "      <td>284807.000000</td>\n",
              "      <td>284807.000000</td>\n",
              "    </tr>\n",
              "    <tr>\n",
              "      <th>mean</th>\n",
              "      <td>94813.859575</td>\n",
              "      <td>1.168375e-15</td>\n",
              "      <td>3.480775e-16</td>\n",
              "      <td>-1.264575e-15</td>\n",
              "      <td>2.094054e-15</td>\n",
              "      <td>9.947354e-16</td>\n",
              "      <td>1.488111e-15</td>\n",
              "      <td>-5.732103e-16</td>\n",
              "      <td>1.182546e-16</td>\n",
              "      <td>-2.412418e-15</td>\n",
              "      <td>...</td>\n",
              "      <td>1.589701e-16</td>\n",
              "      <td>-3.648428e-16</td>\n",
              "      <td>2.642515e-16</td>\n",
              "      <td>4.473465e-15</td>\n",
              "      <td>5.145321e-16</td>\n",
              "      <td>1.687915e-15</td>\n",
              "      <td>-3.658532e-16</td>\n",
              "      <td>-1.230197e-16</td>\n",
              "      <td>88.349619</td>\n",
              "      <td>0.001727</td>\n",
              "    </tr>\n",
              "    <tr>\n",
              "      <th>std</th>\n",
              "      <td>47488.145955</td>\n",
              "      <td>1.958696e+00</td>\n",
              "      <td>1.651309e+00</td>\n",
              "      <td>1.516255e+00</td>\n",
              "      <td>1.415869e+00</td>\n",
              "      <td>1.380247e+00</td>\n",
              "      <td>1.332271e+00</td>\n",
              "      <td>1.237094e+00</td>\n",
              "      <td>1.194353e+00</td>\n",
              "      <td>1.098632e+00</td>\n",
              "      <td>...</td>\n",
              "      <td>7.345240e-01</td>\n",
              "      <td>7.257016e-01</td>\n",
              "      <td>6.244603e-01</td>\n",
              "      <td>6.056471e-01</td>\n",
              "      <td>5.212781e-01</td>\n",
              "      <td>4.822270e-01</td>\n",
              "      <td>4.036325e-01</td>\n",
              "      <td>3.300833e-01</td>\n",
              "      <td>250.120109</td>\n",
              "      <td>0.041527</td>\n",
              "    </tr>\n",
              "    <tr>\n",
              "      <th>min</th>\n",
              "      <td>0.000000</td>\n",
              "      <td>-5.640751e+01</td>\n",
              "      <td>-7.271573e+01</td>\n",
              "      <td>-4.832559e+01</td>\n",
              "      <td>-5.683171e+00</td>\n",
              "      <td>-1.137433e+02</td>\n",
              "      <td>-2.616051e+01</td>\n",
              "      <td>-4.355724e+01</td>\n",
              "      <td>-7.321672e+01</td>\n",
              "      <td>-1.343407e+01</td>\n",
              "      <td>...</td>\n",
              "      <td>-3.483038e+01</td>\n",
              "      <td>-1.093314e+01</td>\n",
              "      <td>-4.480774e+01</td>\n",
              "      <td>-2.836627e+00</td>\n",
              "      <td>-1.029540e+01</td>\n",
              "      <td>-2.604551e+00</td>\n",
              "      <td>-2.256568e+01</td>\n",
              "      <td>-1.543008e+01</td>\n",
              "      <td>0.000000</td>\n",
              "      <td>0.000000</td>\n",
              "    </tr>\n",
              "    <tr>\n",
              "      <th>25%</th>\n",
              "      <td>54201.500000</td>\n",
              "      <td>-9.203734e-01</td>\n",
              "      <td>-5.985499e-01</td>\n",
              "      <td>-8.903648e-01</td>\n",
              "      <td>-8.486401e-01</td>\n",
              "      <td>-6.915971e-01</td>\n",
              "      <td>-7.682956e-01</td>\n",
              "      <td>-5.540759e-01</td>\n",
              "      <td>-2.086297e-01</td>\n",
              "      <td>-6.430976e-01</td>\n",
              "      <td>...</td>\n",
              "      <td>-2.283949e-01</td>\n",
              "      <td>-5.423504e-01</td>\n",
              "      <td>-1.618463e-01</td>\n",
              "      <td>-3.545861e-01</td>\n",
              "      <td>-3.171451e-01</td>\n",
              "      <td>-3.269839e-01</td>\n",
              "      <td>-7.083953e-02</td>\n",
              "      <td>-5.295979e-02</td>\n",
              "      <td>5.600000</td>\n",
              "      <td>0.000000</td>\n",
              "    </tr>\n",
              "    <tr>\n",
              "      <th>50%</th>\n",
              "      <td>84692.000000</td>\n",
              "      <td>1.810880e-02</td>\n",
              "      <td>6.548556e-02</td>\n",
              "      <td>1.798463e-01</td>\n",
              "      <td>-1.984653e-02</td>\n",
              "      <td>-5.433583e-02</td>\n",
              "      <td>-2.741871e-01</td>\n",
              "      <td>4.010308e-02</td>\n",
              "      <td>2.235804e-02</td>\n",
              "      <td>-5.142873e-02</td>\n",
              "      <td>...</td>\n",
              "      <td>-2.945017e-02</td>\n",
              "      <td>6.781943e-03</td>\n",
              "      <td>-1.119293e-02</td>\n",
              "      <td>4.097606e-02</td>\n",
              "      <td>1.659350e-02</td>\n",
              "      <td>-5.213911e-02</td>\n",
              "      <td>1.342146e-03</td>\n",
              "      <td>1.124383e-02</td>\n",
              "      <td>22.000000</td>\n",
              "      <td>0.000000</td>\n",
              "    </tr>\n",
              "    <tr>\n",
              "      <th>75%</th>\n",
              "      <td>139320.500000</td>\n",
              "      <td>1.315642e+00</td>\n",
              "      <td>8.037239e-01</td>\n",
              "      <td>1.027196e+00</td>\n",
              "      <td>7.433413e-01</td>\n",
              "      <td>6.119264e-01</td>\n",
              "      <td>3.985649e-01</td>\n",
              "      <td>5.704361e-01</td>\n",
              "      <td>3.273459e-01</td>\n",
              "      <td>5.971390e-01</td>\n",
              "      <td>...</td>\n",
              "      <td>1.863772e-01</td>\n",
              "      <td>5.285536e-01</td>\n",
              "      <td>1.476421e-01</td>\n",
              "      <td>4.395266e-01</td>\n",
              "      <td>3.507156e-01</td>\n",
              "      <td>2.409522e-01</td>\n",
              "      <td>9.104512e-02</td>\n",
              "      <td>7.827995e-02</td>\n",
              "      <td>77.165000</td>\n",
              "      <td>0.000000</td>\n",
              "    </tr>\n",
              "    <tr>\n",
              "      <th>max</th>\n",
              "      <td>172792.000000</td>\n",
              "      <td>2.454930e+00</td>\n",
              "      <td>2.205773e+01</td>\n",
              "      <td>9.382558e+00</td>\n",
              "      <td>1.687534e+01</td>\n",
              "      <td>3.480167e+01</td>\n",
              "      <td>7.330163e+01</td>\n",
              "      <td>1.205895e+02</td>\n",
              "      <td>2.000721e+01</td>\n",
              "      <td>1.559499e+01</td>\n",
              "      <td>...</td>\n",
              "      <td>2.720284e+01</td>\n",
              "      <td>1.050309e+01</td>\n",
              "      <td>2.252841e+01</td>\n",
              "      <td>4.584549e+00</td>\n",
              "      <td>7.519589e+00</td>\n",
              "      <td>3.517346e+00</td>\n",
              "      <td>3.161220e+01</td>\n",
              "      <td>3.384781e+01</td>\n",
              "      <td>25691.160000</td>\n",
              "      <td>1.000000</td>\n",
              "    </tr>\n",
              "  </tbody>\n",
              "</table>\n",
              "<p>8 rows × 31 columns</p>\n",
              "</div>\n",
              "      <button class=\"colab-df-convert\" onclick=\"convertToInteractive('df-212d8f6b-b690-4366-a652-3f3276a95314')\"\n",
              "              title=\"Convert this dataframe to an interactive table.\"\n",
              "              style=\"display:none;\">\n",
              "        \n",
              "  <svg xmlns=\"http://www.w3.org/2000/svg\" height=\"24px\"viewBox=\"0 0 24 24\"\n",
              "       width=\"24px\">\n",
              "    <path d=\"M0 0h24v24H0V0z\" fill=\"none\"/>\n",
              "    <path d=\"M18.56 5.44l.94 2.06.94-2.06 2.06-.94-2.06-.94-.94-2.06-.94 2.06-2.06.94zm-11 1L8.5 8.5l.94-2.06 2.06-.94-2.06-.94L8.5 2.5l-.94 2.06-2.06.94zm10 10l.94 2.06.94-2.06 2.06-.94-2.06-.94-.94-2.06-.94 2.06-2.06.94z\"/><path d=\"M17.41 7.96l-1.37-1.37c-.4-.4-.92-.59-1.43-.59-.52 0-1.04.2-1.43.59L10.3 9.45l-7.72 7.72c-.78.78-.78 2.05 0 2.83L4 21.41c.39.39.9.59 1.41.59.51 0 1.02-.2 1.41-.59l7.78-7.78 2.81-2.81c.8-.78.8-2.07 0-2.86zM5.41 20L4 18.59l7.72-7.72 1.47 1.35L5.41 20z\"/>\n",
              "  </svg>\n",
              "      </button>\n",
              "      \n",
              "  <style>\n",
              "    .colab-df-container {\n",
              "      display:flex;\n",
              "      flex-wrap:wrap;\n",
              "      gap: 12px;\n",
              "    }\n",
              "\n",
              "    .colab-df-convert {\n",
              "      background-color: #E8F0FE;\n",
              "      border: none;\n",
              "      border-radius: 50%;\n",
              "      cursor: pointer;\n",
              "      display: none;\n",
              "      fill: #1967D2;\n",
              "      height: 32px;\n",
              "      padding: 0 0 0 0;\n",
              "      width: 32px;\n",
              "    }\n",
              "\n",
              "    .colab-df-convert:hover {\n",
              "      background-color: #E2EBFA;\n",
              "      box-shadow: 0px 1px 2px rgba(60, 64, 67, 0.3), 0px 1px 3px 1px rgba(60, 64, 67, 0.15);\n",
              "      fill: #174EA6;\n",
              "    }\n",
              "\n",
              "    [theme=dark] .colab-df-convert {\n",
              "      background-color: #3B4455;\n",
              "      fill: #D2E3FC;\n",
              "    }\n",
              "\n",
              "    [theme=dark] .colab-df-convert:hover {\n",
              "      background-color: #434B5C;\n",
              "      box-shadow: 0px 1px 3px 1px rgba(0, 0, 0, 0.15);\n",
              "      filter: drop-shadow(0px 1px 2px rgba(0, 0, 0, 0.3));\n",
              "      fill: #FFFFFF;\n",
              "    }\n",
              "  </style>\n",
              "\n",
              "      <script>\n",
              "        const buttonEl =\n",
              "          document.querySelector('#df-212d8f6b-b690-4366-a652-3f3276a95314 button.colab-df-convert');\n",
              "        buttonEl.style.display =\n",
              "          google.colab.kernel.accessAllowed ? 'block' : 'none';\n",
              "\n",
              "        async function convertToInteractive(key) {\n",
              "          const element = document.querySelector('#df-212d8f6b-b690-4366-a652-3f3276a95314');\n",
              "          const dataTable =\n",
              "            await google.colab.kernel.invokeFunction('convertToInteractive',\n",
              "                                                     [key], {});\n",
              "          if (!dataTable) return;\n",
              "\n",
              "          const docLinkHtml = 'Like what you see? Visit the ' +\n",
              "            '<a target=\"_blank\" href=https://colab.research.google.com/notebooks/data_table.ipynb>data table notebook</a>'\n",
              "            + ' to learn more about interactive tables.';\n",
              "          element.innerHTML = '';\n",
              "          dataTable['output_type'] = 'display_data';\n",
              "          await google.colab.output.renderOutput(dataTable, element);\n",
              "          const docLink = document.createElement('div');\n",
              "          docLink.innerHTML = docLinkHtml;\n",
              "          element.appendChild(docLink);\n",
              "        }\n",
              "      </script>\n",
              "    </div>\n",
              "  </div>\n",
              "  "
            ]
          },
          "metadata": {},
          "execution_count": 16
        }
      ],
      "source": [
        "data.describe()"
      ]
    },
    {
      "cell_type": "code",
      "execution_count": null,
      "metadata": {
        "execution": {
          "iopub.execute_input": "2020-12-23T18:03:34.072937Z",
          "iopub.status.busy": "2020-12-23T18:03:34.071995Z",
          "iopub.status.idle": "2020-12-23T18:03:34.131658Z",
          "shell.execute_reply": "2020-12-23T18:03:34.132225Z"
        },
        "papermill": {
          "duration": 0.079403,
          "end_time": "2020-12-23T18:03:34.132366",
          "exception": false,
          "start_time": "2020-12-23T18:03:34.052963",
          "status": "completed"
        },
        "tags": [],
        "id": "gdyUByPoekuO",
        "outputId": "3bb0e9e4-0c61-4ac5-ff9a-c4d070ef41ad",
        "colab": {
          "base_uri": "https://localhost:8080/"
        }
      },
      "outputs": [
        {
          "output_type": "stream",
          "name": "stdout",
          "text": [
            "Valid transaction 284315\n",
            "fraud transaction 492\n"
          ]
        }
      ],
      "source": [
        "#Stat\n",
        "print('Valid transaction',len(data[data['Class']==0]))\n",
        "print('fraud transaction',len(data[data['Class']==1]))\n",
        "# print(type(data))\n",
        "# print(data[data['Class']==1])"
      ]
    },
    {
      "cell_type": "code",
      "execution_count": null,
      "metadata": {
        "execution": {
          "iopub.execute_input": "2020-12-23T18:03:34.169928Z",
          "iopub.status.busy": "2020-12-23T18:03:34.168970Z",
          "iopub.status.idle": "2020-12-23T18:03:34.197118Z",
          "shell.execute_reply": "2020-12-23T18:03:34.197629Z"
        },
        "papermill": {
          "duration": 0.048638,
          "end_time": "2020-12-23T18:03:34.197783",
          "exception": false,
          "start_time": "2020-12-23T18:03:34.149145",
          "status": "completed"
        },
        "tags": [],
        "id": "_e4wtiz8ekuO"
      },
      "outputs": [],
      "source": [
        "y= data['Class']\n",
        "x= data.drop(columns=['Class'],axis=1)"
      ]
    },
    {
      "cell_type": "markdown",
      "source": [],
      "metadata": {
        "id": "F-rdv50ilFKJ"
      }
    },
    {
      "cell_type": "code",
      "execution_count": null,
      "metadata": {
        "execution": {
          "iopub.execute_input": "2020-12-23T18:03:34.234630Z",
          "iopub.status.busy": "2020-12-23T18:03:34.233587Z",
          "iopub.status.idle": "2020-12-23T18:03:35.356808Z",
          "shell.execute_reply": "2020-12-23T18:03:35.356260Z"
        },
        "papermill": {
          "duration": 1.142603,
          "end_time": "2020-12-23T18:03:35.356923",
          "exception": false,
          "start_time": "2020-12-23T18:03:34.214320",
          "status": "completed"
        },
        "tags": [],
        "id": "3132RbsBekuP"
      },
      "outputs": [],
      "source": [
        "#splitting the data into train test \n",
        "from sklearn.model_selection import train_test_split\n",
        "x_train,x_test,y_train,y_test = train_test_split(x,y,test_size= 0.3,random_state=0)"
      ]
    },
    {
      "cell_type": "code",
      "execution_count": null,
      "metadata": {
        "execution": {
          "iopub.execute_input": "2020-12-23T18:03:35.396922Z",
          "iopub.status.busy": "2020-12-23T18:03:35.396202Z",
          "iopub.status.idle": "2020-12-23T18:03:35.579034Z",
          "shell.execute_reply": "2020-12-23T18:03:35.578466Z"
        },
        "papermill": {
          "duration": 0.204658,
          "end_time": "2020-12-23T18:03:35.579170",
          "exception": false,
          "start_time": "2020-12-23T18:03:35.374512",
          "status": "completed"
        },
        "tags": [],
        "id": "HfyQ7gQdekuQ"
      },
      "outputs": [],
      "source": [
        "# fitting randomforest model\n",
        "from sklearn.ensemble import RandomForestClassifier\n",
        "classifier = RandomForestClassifier()\n",
        "\n"
      ]
    },
    {
      "cell_type": "code",
      "execution_count": null,
      "metadata": {
        "execution": {
          "iopub.execute_input": "2020-12-23T18:03:35.621102Z",
          "iopub.status.busy": "2020-12-23T18:03:35.620442Z",
          "iopub.status.idle": "2020-12-23T18:04:02.933766Z",
          "shell.execute_reply": "2020-12-23T18:04:02.933223Z"
        },
        "papermill": {
          "duration": 27.337629,
          "end_time": "2020-12-23T18:04:02.933886",
          "exception": false,
          "start_time": "2020-12-23T18:03:35.596257",
          "status": "completed"
        },
        "tags": [],
        "id": "maalFUJGekuQ",
        "outputId": "ed24b4a3-d942-4a31-cd0e-8107282bab2c",
        "colab": {
          "base_uri": "https://localhost:8080/",
          "height": 92
        }
      },
      "outputs": [
        {
          "output_type": "execute_result",
          "data": {
            "text/plain": [
              "RandomForestClassifier(criterion='entropy', max_depth=10, n_estimators=20,\n",
              "                       random_state=0)"
            ],
            "text/html": [
              "<style>#sk-container-id-1 {color: black;background-color: white;}#sk-container-id-1 pre{padding: 0;}#sk-container-id-1 div.sk-toggleable {background-color: white;}#sk-container-id-1 label.sk-toggleable__label {cursor: pointer;display: block;width: 100%;margin-bottom: 0;padding: 0.3em;box-sizing: border-box;text-align: center;}#sk-container-id-1 label.sk-toggleable__label-arrow:before {content: \"▸\";float: left;margin-right: 0.25em;color: #696969;}#sk-container-id-1 label.sk-toggleable__label-arrow:hover:before {color: black;}#sk-container-id-1 div.sk-estimator:hover label.sk-toggleable__label-arrow:before {color: black;}#sk-container-id-1 div.sk-toggleable__content {max-height: 0;max-width: 0;overflow: hidden;text-align: left;background-color: #f0f8ff;}#sk-container-id-1 div.sk-toggleable__content pre {margin: 0.2em;color: black;border-radius: 0.25em;background-color: #f0f8ff;}#sk-container-id-1 input.sk-toggleable__control:checked~div.sk-toggleable__content {max-height: 200px;max-width: 100%;overflow: auto;}#sk-container-id-1 input.sk-toggleable__control:checked~label.sk-toggleable__label-arrow:before {content: \"▾\";}#sk-container-id-1 div.sk-estimator input.sk-toggleable__control:checked~label.sk-toggleable__label {background-color: #d4ebff;}#sk-container-id-1 div.sk-label input.sk-toggleable__control:checked~label.sk-toggleable__label {background-color: #d4ebff;}#sk-container-id-1 input.sk-hidden--visually {border: 0;clip: rect(1px 1px 1px 1px);clip: rect(1px, 1px, 1px, 1px);height: 1px;margin: -1px;overflow: hidden;padding: 0;position: absolute;width: 1px;}#sk-container-id-1 div.sk-estimator {font-family: monospace;background-color: #f0f8ff;border: 1px dotted black;border-radius: 0.25em;box-sizing: border-box;margin-bottom: 0.5em;}#sk-container-id-1 div.sk-estimator:hover {background-color: #d4ebff;}#sk-container-id-1 div.sk-parallel-item::after {content: \"\";width: 100%;border-bottom: 1px solid gray;flex-grow: 1;}#sk-container-id-1 div.sk-label:hover label.sk-toggleable__label {background-color: #d4ebff;}#sk-container-id-1 div.sk-serial::before {content: \"\";position: absolute;border-left: 1px solid gray;box-sizing: border-box;top: 0;bottom: 0;left: 50%;z-index: 0;}#sk-container-id-1 div.sk-serial {display: flex;flex-direction: column;align-items: center;background-color: white;padding-right: 0.2em;padding-left: 0.2em;position: relative;}#sk-container-id-1 div.sk-item {position: relative;z-index: 1;}#sk-container-id-1 div.sk-parallel {display: flex;align-items: stretch;justify-content: center;background-color: white;position: relative;}#sk-container-id-1 div.sk-item::before, #sk-container-id-1 div.sk-parallel-item::before {content: \"\";position: absolute;border-left: 1px solid gray;box-sizing: border-box;top: 0;bottom: 0;left: 50%;z-index: -1;}#sk-container-id-1 div.sk-parallel-item {display: flex;flex-direction: column;z-index: 1;position: relative;background-color: white;}#sk-container-id-1 div.sk-parallel-item:first-child::after {align-self: flex-end;width: 50%;}#sk-container-id-1 div.sk-parallel-item:last-child::after {align-self: flex-start;width: 50%;}#sk-container-id-1 div.sk-parallel-item:only-child::after {width: 0;}#sk-container-id-1 div.sk-dashed-wrapped {border: 1px dashed gray;margin: 0 0.4em 0.5em 0.4em;box-sizing: border-box;padding-bottom: 0.4em;background-color: white;}#sk-container-id-1 div.sk-label label {font-family: monospace;font-weight: bold;display: inline-block;line-height: 1.2em;}#sk-container-id-1 div.sk-label-container {text-align: center;}#sk-container-id-1 div.sk-container {/* jupyter's `normalize.less` sets `[hidden] { display: none; }` but bootstrap.min.css set `[hidden] { display: none !important; }` so we also need the `!important` here to be able to override the default hidden behavior on the sphinx rendered scikit-learn.org. See: https://github.com/scikit-learn/scikit-learn/issues/21755 */display: inline-block !important;position: relative;}#sk-container-id-1 div.sk-text-repr-fallback {display: none;}</style><div id=\"sk-container-id-1\" class=\"sk-top-container\"><div class=\"sk-text-repr-fallback\"><pre>RandomForestClassifier(criterion=&#x27;entropy&#x27;, max_depth=10, n_estimators=20,\n",
              "                       random_state=0)</pre><b>In a Jupyter environment, please rerun this cell to show the HTML representation or trust the notebook. <br />On GitHub, the HTML representation is unable to render, please try loading this page with nbviewer.org.</b></div><div class=\"sk-container\" hidden><div class=\"sk-item\"><div class=\"sk-estimator sk-toggleable\"><input class=\"sk-toggleable__control sk-hidden--visually\" id=\"sk-estimator-id-1\" type=\"checkbox\" checked><label for=\"sk-estimator-id-1\" class=\"sk-toggleable__label sk-toggleable__label-arrow\">RandomForestClassifier</label><div class=\"sk-toggleable__content\"><pre>RandomForestClassifier(criterion=&#x27;entropy&#x27;, max_depth=10, n_estimators=20,\n",
              "                       random_state=0)</pre></div></div></div></div></div>"
            ]
          },
          "metadata": {},
          "execution_count": 21
        }
      ],
      "source": [
        "#RFAmodel\n",
        "from sklearn.ensemble import RandomForestClassifier\n",
        "classifier = RandomForestClassifier(n_estimators=20,criterion='entropy', random_state=0,max_depth=10)\n",
        "classifier.fit(x_train,y_train)"
      ]
    },
    {
      "cell_type": "code",
      "execution_count": null,
      "metadata": {
        "execution": {
          "iopub.execute_input": "2020-12-23T18:04:02.982504Z",
          "iopub.status.busy": "2020-12-23T18:04:02.981785Z",
          "iopub.status.idle": "2020-12-23T18:04:03.126475Z",
          "shell.execute_reply": "2020-12-23T18:04:03.125701Z"
        },
        "papermill": {
          "duration": 0.172962,
          "end_time": "2020-12-23T18:04:03.126604",
          "exception": false,
          "start_time": "2020-12-23T18:04:02.953642",
          "status": "completed"
        },
        "tags": [],
        "id": "O5O64xs3ekuR"
      },
      "outputs": [],
      "source": [
        "y_pred = classifier.predict(x_test)"
      ]
    },
    {
      "cell_type": "code",
      "execution_count": null,
      "metadata": {
        "execution": {
          "iopub.execute_input": "2020-12-23T18:04:03.170860Z",
          "iopub.status.busy": "2020-12-23T18:04:03.170145Z",
          "iopub.status.idle": "2020-12-23T18:04:03.411458Z",
          "shell.execute_reply": "2020-12-23T18:04:03.410769Z"
        },
        "papermill": {
          "duration": 0.266005,
          "end_time": "2020-12-23T18:04:03.411601",
          "exception": false,
          "start_time": "2020-12-23T18:04:03.145596",
          "status": "completed"
        },
        "tags": [],
        "id": "egCurUtPekuS",
        "outputId": "7e07d6d4-be9b-478f-8c1c-41df04d8e6a1",
        "colab": {
          "base_uri": "https://localhost:8080/"
        }
      },
      "outputs": [
        {
          "output_type": "stream",
          "name": "stdout",
          "text": [
            "Classifcation report:\n",
            "               precision    recall  f1-score   support\n",
            "\n",
            "           0       1.00      1.00      1.00     85290\n",
            "           1       0.92      0.77      0.84       153\n",
            "\n",
            "    accuracy                           1.00     85443\n",
            "   macro avg       0.96      0.89      0.92     85443\n",
            "weighted avg       1.00      1.00      1.00     85443\n",
            "\n",
            "Confusion matrix:\n",
            " [[85280    10]\n",
            " [   35   118]]\n"
          ]
        }
      ],
      "source": [
        "from sklearn.metrics import  classification_report, confusion_matrix\n",
        "print('Classifcation report:\\n', classification_report(y_test, y_pred))\n",
        "conf_mat = confusion_matrix(y_true=y_test, y_pred=y_pred)\n",
        "print('Confusion matrix:\\n', conf_mat)"
      ]
    },
    {
      "cell_type": "code",
      "execution_count": null,
      "metadata": {
        "execution": {
          "iopub.execute_input": "2020-12-23T18:07:22.783857Z",
          "iopub.status.busy": "2020-12-23T18:07:22.783137Z",
          "iopub.status.idle": "2020-12-23T18:07:23.160480Z",
          "shell.execute_reply": "2020-12-23T18:07:23.159879Z"
        },
        "papermill": {
          "duration": 0.406274,
          "end_time": "2020-12-23T18:07:23.160603",
          "exception": false,
          "start_time": "2020-12-23T18:07:22.754329",
          "status": "completed"
        },
        "tags": [],
        "id": "SItK2wECekuY",
        "outputId": "896aec6c-9f77-4f66-8f7c-ffa69548e621",
        "colab": {
          "base_uri": "https://localhost:8080/",
          "height": 1000
        }
      },
      "outputs": [
        {
          "output_type": "display_data",
          "data": {
            "text/plain": [
              "<Figure size 1200x1200 with 2 Axes>"
            ],
            "image/png": "[encoded data removed]"
          },
          "metadata": {}
        }
      ],
      "source": [
        "#visulalizing the confusion matrix\n",
        "LABELS = ['Normal', 'Fraud'] \n",
        "conf_matrix = confusion_matrix(y_test, y_pred) \n",
        "plt.figure(figsize =(12, 12)) \n",
        "sns.heatmap(conf_matrix, xticklabels = LABELS, yticklabels = LABELS, annot = True, fmt =\"d\"); \n",
        "plt.title(\"Confusion matrix\") \n",
        "plt.ylabel('True class') \n",
        "plt.xlabel('Predicted class') \n",
        "plt.show() "
      ]
    },
    {
      "cell_type": "code",
      "execution_count": null,
      "metadata": {
        "execution": {
          "iopub.execute_input": "2020-12-23T18:04:03.453611Z",
          "iopub.status.busy": "2020-12-23T18:04:03.452877Z",
          "iopub.status.idle": "2020-12-23T18:04:46.354219Z",
          "shell.execute_reply": "2020-12-23T18:04:46.354750Z"
        },
        "papermill": {
          "duration": 42.924206,
          "end_time": "2020-12-23T18:04:46.354897",
          "exception": false,
          "start_time": "2020-12-23T18:04:03.430691",
          "status": "completed"
        },
        "tags": [],
        "id": "iOY_0WHEekuT",
        "outputId": "c83d5e02-fc6b-4ec6-b0b3-4911c84969ca",
        "colab": {
          "base_uri": "https://localhost:8080/"
        }
      },
      "outputs": [
        {
          "output_type": "execute_result",
          "data": {
            "text/plain": [
              "RandomForestClassifier(criterion='entropy', max_depth=10, n_estimators=30,\n",
              "                       random_state=0)"
            ]
          },
          "metadata": {},
          "execution_count": 29
        }
      ],
      "source": [
        "#COPYmodel\n",
        "from sklearn.ensemble import RandomForestClassifier\n",
        "classifier = RandomForestClassifier(n_estimators=30,criterion='entropy', random_state=0,max_depth=10)\n",
        "classifier.fit(x_train,y_train)"
      ]
    },
    {
      "cell_type": "code",
      "execution_count": null,
      "metadata": {
        "execution": {
          "iopub.execute_input": "2020-12-23T18:04:46.395133Z",
          "iopub.status.busy": "2020-12-23T18:04:46.394488Z",
          "iopub.status.idle": "2020-12-23T18:04:46.595278Z",
          "shell.execute_reply": "2020-12-23T18:04:46.595791Z"
        },
        "papermill": {
          "duration": 0.222578,
          "end_time": "2020-12-23T18:04:46.595954",
          "exception": false,
          "start_time": "2020-12-23T18:04:46.373376",
          "status": "completed"
        },
        "tags": [],
        "id": "mG0arvESekuU"
      },
      "outputs": [],
      "source": [
        "y_pred_2 = classifier.predict(x_test)"
      ]
    },
    {
      "cell_type": "code",
      "execution_count": null,
      "metadata": {
        "execution": {
          "iopub.execute_input": "2020-12-23T18:04:46.637318Z",
          "iopub.status.busy": "2020-12-23T18:04:46.636615Z",
          "iopub.status.idle": "2020-12-23T18:04:46.866911Z",
          "shell.execute_reply": "2020-12-23T18:04:46.867761Z"
        },
        "papermill": {
          "duration": 0.252972,
          "end_time": "2020-12-23T18:04:46.867981",
          "exception": false,
          "start_time": "2020-12-23T18:04:46.615009",
          "status": "completed"
        },
        "tags": [],
        "id": "Wex78oj5ekuU",
        "outputId": "85637889-2c61-44af-c7e6-7b002e86c241",
        "colab": {
          "base_uri": "https://localhost:8080/"
        }
      },
      "outputs": [
        {
          "output_type": "stream",
          "name": "stdout",
          "text": [
            "Classifcation report:\n",
            "               precision    recall  f1-score   support\n",
            "\n",
            "           0       1.00      1.00      1.00       227\n",
            "           1       0.99      0.99      0.99       103\n",
            "\n",
            "    accuracy                           0.99       330\n",
            "   macro avg       0.99      0.99      0.99       330\n",
            "weighted avg       0.99      0.99      0.99       330\n",
            "\n",
            "Confusion matrix:\n",
            " [[226   1]\n",
            " [  1 102]]\n"
          ]
        }
      ],
      "source": [
        "from sklearn.metrics import  classification_report, confusion_matrix\n",
        "print('Classifcation report:\\n', classification_report(y_test, y_pred_2))\n",
        "conf_mat = confusion_matrix(y_true=y_test, y_pred=y_pred_2)\n",
        "print('Confusion matrix:\\n', conf_mat)"
      ]
    },
    {
      "cell_type": "code",
      "execution_count": null,
      "metadata": {
        "execution": {
          "iopub.execute_input": "2020-12-23T18:04:46.916943Z",
          "iopub.status.busy": "2020-12-23T18:04:46.916234Z",
          "iopub.status.idle": "2020-12-23T18:04:47.681487Z",
          "shell.execute_reply": "2020-12-23T18:04:47.682371Z"
        },
        "papermill": {
          "duration": 0.794036,
          "end_time": "2020-12-23T18:04:47.682596",
          "exception": false,
          "start_time": "2020-12-23T18:04:46.888560",
          "status": "completed"
        },
        "tags": [],
        "id": "JS176bgGekuV",
        "outputId": "c79ee3e9-836b-4bdb-b9a0-2e23527e0561",
        "colab": {
          "base_uri": "https://localhost:8080/"
        }
      },
      "outputs": [
        {
          "output_type": "stream",
          "name": "stdout",
          "text": [
            "Classifcation report:\n",
            "               precision    recall  f1-score   support\n",
            "\n",
            "           0       1.00      0.99      0.99       227\n",
            "           1       0.97      0.99      0.98       103\n",
            "\n",
            "    accuracy                           0.99       330\n",
            "   macro avg       0.98      0.99      0.99       330\n",
            "weighted avg       0.99      0.99      0.99       330\n",
            "\n",
            "Confusion matrix:\n",
            " [[224   3]\n",
            " [  1 102]]\n"
          ]
        }
      ],
      "source": [
        "#trying with undersmapling technique\n",
        "# This is the pipeline module we need from imblearn for Undersampling\n",
        "from imblearn.under_sampling import RandomUnderSampler\n",
        "from imblearn.pipeline import Pipeline\n",
        "\n",
        "\n",
        "# Define which resampling method and which ML model to use in the pipeline\n",
        "resampling = RandomUnderSampler()\n",
        "model = RandomForestClassifier(n_estimators=30,criterion='entropy', random_state=0,max_depth=10)\n",
        "\n",
        "\n",
        "# Define the pipeline and combine sampling method with the RF model\n",
        "pipeline = Pipeline([('RandomUnderSampler', resampling), ('RF', model)])\n",
        "pipeline.fit(x_train, y_train) \n",
        "predicted = pipeline.predict(x_test)\n",
        "\n",
        "\n",
        "# Obtain the results from the classification report and confusion matrix \n",
        "print('Classifcation report:\\n', classification_report(y_test, predicted))\n",
        "conf_mat = confusion_matrix(y_true=y_test, y_pred=predicted)\n",
        "print('Confusion matrix:\\n', conf_mat)"
      ]
    },
    {
      "cell_type": "code",
      "execution_count": null,
      "metadata": {
        "execution": {
          "iopub.execute_input": "2020-12-23T18:04:47.731835Z",
          "iopub.status.busy": "2020-12-23T18:04:47.731078Z",
          "iopub.status.idle": "2020-12-23T18:05:38.870258Z",
          "shell.execute_reply": "2020-12-23T18:05:38.871101Z"
        },
        "papermill": {
          "duration": 51.168031,
          "end_time": "2020-12-23T18:05:38.871338",
          "exception": false,
          "start_time": "2020-12-23T18:04:47.703307",
          "status": "completed"
        },
        "tags": [],
        "id": "_F1tzwJyekuW"
      },
      "outputs": [],
      "source": [
        "# This is the pipeline module we need from imblearn for Oversampling\n",
        "from imblearn.over_sampling import RandomOverSampler\n",
        "# Define which resampling method and which ML model to use in the pipeline\n",
        "resampling = RandomOverSampler()\n",
        "model = RandomForestClassifier(n_estimators=30,criterion='entropy', random_state=0,max_depth=10)\n",
        "\n",
        "# Define the pipeline and combine sampling method with the model\n",
        "pipeline = Pipeline([('RandomOverSampler', resampling), ('RF', model)])\n",
        "pipeline.fit(x_train, y_train) \n",
        "predicted = pipeline.predict(x_test)\n",
        "\n",
        "\n",
        "# Obtain the results from the classification report and confusion matrix \n",
        "print('Classifcation report:\\n', classification_report(y_test, predicted))\n",
        "conf_mat = confusion_matrix(y_true=y_test, y_pred=predicted)\n",
        "print('Confusion matrix:\\n', conf_mat)"
      ]
    },
    {
      "cell_type": "code",
      "execution_count": null,
      "metadata": {
        "execution": {
          "iopub.execute_input": "2020-12-23T18:05:38.922399Z",
          "iopub.status.busy": "2020-12-23T18:05:38.921662Z",
          "iopub.status.idle": "2020-12-23T18:07:22.562333Z",
          "shell.execute_reply": "2020-12-23T18:07:22.563228Z"
        },
        "papermill": {
          "duration": 103.670794,
          "end_time": "2020-12-23T18:07:22.563486",
          "exception": false,
          "start_time": "2020-12-23T18:05:38.892692",
          "status": "completed"
        },
        "tags": [],
        "id": "tKbmEdqBekuX"
      },
      "outputs": [],
      "source": [
        "# This is the pipeline module we need from imblearn for SMOTE\n",
        "from imblearn.over_sampling import SMOTE\n",
        "# Define which resampling method and which ML model to use in the pipeline\n",
        "resampling = SMOTE(sampling_strategy='auto',random_state=0)\n",
        "model = RandomForestClassifier(n_estimators=30,criterion='entropy', random_state=0,max_depth=10)\n",
        "\n",
        "# Define the pipeline and combine sampling method with the model\n",
        "pipeline = Pipeline([('SMOTE', resampling), ('RF', model)])\n",
        "pipeline.fit(x_train, y_train) \n",
        "predicted = pipeline.predict(x_test)\n",
        "\n",
        "\n",
        "# Obtain the results from the classification report and confusion matrix \n",
        "print('Classifcation report:\\n', classification_report(y_test, predicted))\n",
        "conf_mat = confusion_matrix(y_true=y_test, y_pred=predicted)\n",
        "print('Confusion matrix:\\n', conf_mat)"
      ]
    },
    {
      "cell_type": "code",
      "execution_count": null,
      "metadata": {
        "execution": {
          "iopub.execute_input": "2020-12-23T18:07:22.612784Z",
          "iopub.status.busy": "2020-12-23T18:07:22.612111Z",
          "iopub.status.idle": "2020-12-23T18:07:22.733125Z",
          "shell.execute_reply": "2020-12-23T18:07:22.732380Z"
        },
        "papermill": {
          "duration": 0.146866,
          "end_time": "2020-12-23T18:07:22.733267",
          "exception": false,
          "start_time": "2020-12-23T18:07:22.586401",
          "status": "completed"
        },
        "tags": [],
        "id": "nrOAZi2eekuX"
      },
      "outputs": [],
      "source": [
        "import matplotlib.pyplot as plt\n",
        "import seaborn as sns"
      ]
    },
    {
      "cell_type": "code",
      "execution_count": null,
      "metadata": {
        "papermill": {
          "duration": 0.022111,
          "end_time": "2020-12-23T18:07:23.204865",
          "exception": false,
          "start_time": "2020-12-23T18:07:23.182754",
          "status": "completed"
        },
        "tags": [],
        "id": "VYa5BkOVekuY",
        "colab": {
          "base_uri": "https://localhost:8080/"
        },
        "outputId": "f90e4203-9bd0-4f7a-b137-fd2d937550de"
      },
      "outputs": [
        {
          "output_type": "stream",
          "name": "stdout",
          "text": [
            "Looking in indexes: https://pypi.org/simple, https://us-python.pkg.dev/colab-wheels/public/simple/\n",
            "Collecting pyfingerprint\n",
            "  Downloading pyfingerprint-1.5-py3-none-any.whl (9.4 kB)\n",
            "Requirement already satisfied: Pillow in /usr/local/lib/python3.8/dist-packages (from pyfingerprint) (7.1.2)\n",
            "Collecting pyserial\n",
            "  Downloading pyserial-3.5-py2.py3-none-any.whl (90 kB)\n",
            "\u001b[2K     \u001b[90m━━━━━━━━━━━━━━━━━━━━━━━━━━━━━━━━━━━━━━━━\u001b[0m \u001b[32m90.6/90.6 KB\u001b[0m \u001b[31m5.9 MB/s\u001b[0m eta \u001b[36m0:00:00\u001b[0m\n",
            "\u001b[?25hInstalling collected packages: pyserial, pyfingerprint\n",
            "Successfully installed pyfingerprint-1.5 pyserial-3.5\n",
            "The fingerprint sensor could not be initialized!\n",
            "Exception message: [Errno 2] could not open port /dev/ttyUSB0: [Errno 2] No such file or directory: '/dev/ttyUSB0'\n",
            "Waiting for finger...\n",
            "Operation failed!\n",
            "Exception message: name 'f' is not defined\n"
          ]
        }
      ],
      "source": [
        "#FingerPrint\n",
        "!pip install pyfingerprint\n",
        "\n",
        "import hashlib\n",
        "from pyfingerprint.pyfingerprint import PyFingerprint\n",
        "\n",
        "# Connect to the sensor\n",
        "try:\n",
        "    f = PyFingerprint('/dev/ttyUSB0', 57600, 0xFFFFFFFF, 0x00000000)\n",
        "    if ( f.verifyPassword() == False ):\n",
        "        raise ValueError('The given fingerprint sensor password is wrong!')\n",
        "\n",
        "except Exception as e:\n",
        "    print('The fingerprint sensor could not be initialized!')\n",
        "    print('Exception message: ' + str(e))\n",
        "    exit(1)\n",
        "\n",
        "## Search for a finger\n",
        "try:\n",
        "    print('Waiting for finger...')\n",
        "\n",
        "    ## Wait that finger is read\n",
        "    while ( f.readImage() == False ):\n",
        "        pass\n",
        "\n",
        "    ## Converts read image to characteristics and stores it in charbuffer 1\n",
        "    f.convertImage(0x01)\n",
        "\n",
        "    ## Searchs template\n",
        "    result = f.searchTemplate()\n",
        "\n",
        "    positionNumber = result[0]\n",
        "    accuracyScore = result[1]\n",
        "\n",
        "    if ( positionNumber == -1 ):\n",
        "        print('No match found!')\n",
        "        exit(0)\n",
        "    else:\n",
        "        print('Found template at position #' + str(positionNumber))\n",
        "        print('The accuracy score is: ' + str(accuracyScore))\n",
        "\n",
        "except Exception as e:\n",
        "    print('Operation failed!')\n",
        "    print('Exception message: ' + str(e))\n",
        "    exit(1)\n"
      ]
    },
    {
      "cell_type": "markdown",
      "source": [
        "----Live Labe 1 Over----\n",
        "\n",
        "\n",
        "\n",
        "----Code Under Construction-------"
      ],
      "metadata": {
        "id": "9hRtE9u4MAX8"
      }
    }
  ],
  "metadata": {
    "kernelspec": {
      "display_name": "Python 3",
      "language": "python",
      "name": "python3"
    },
    "language_info": {
      "codemirror_mode": {
        "name": "ipython",
        "version": 3
      },
      "file_extension": ".py",
      "mimetype": "text/x-python",
      "name": "python",
      "nbconvert_exporter": "python",
      "pygments_lexer": "ipython3",
      "version": "3.7.6"
    },
    "papermill": {
      "duration": 238.828146,
      "end_time": "2020-12-23T18:07:23.335830",
      "environment_variables": {},
      "exception": null,
      "input_path": "__notebook__.ipynb",
      "output_path": "__notebook__.ipynb",
      "parameters": {},
      "start_time": "2020-12-23T18:03:24.507684",
      "version": "2.1.0"
    },
    "colab": {
      "provenance": []
    }
  },
  "nbformat": 4,
  "nbformat_minor": 0
}